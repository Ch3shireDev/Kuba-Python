{
 "cells": [
  {
   "cell_type": "markdown",
   "id": "1b09a7e5",
   "metadata": {},
   "source": [
    "![](./img/z-02-01.png)\n",
    "![](./img/z-02-02.png)\n",
    "![](./img/z-02-03.png)\n",
    "![](./img/z-02-04.png)\n",
    "![](./img/z-02-05.png)"
   ]
  }
 ],
 "metadata": {
  "kernelspec": {
   "display_name": "Python 3",
   "language": "python",
   "name": "python3"
  },
  "language_info": {
   "codemirror_mode": {
    "name": "ipython",
    "version": 3
   },
   "file_extension": ".py",
   "mimetype": "text/x-python",
   "name": "python",
   "nbconvert_exporter": "python",
   "pygments_lexer": "ipython3",
   "version": "3.9.5"
  }
 },
 "nbformat": 4,
 "nbformat_minor": 5
}
